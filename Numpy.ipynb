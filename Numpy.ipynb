{
 "cells": [
  {
   "cell_type": "code",
   "execution_count": 3,
   "id": "49e522e4-236b-41f6-9323-aa72fc348527",
   "metadata": {},
   "outputs": [
    {
     "name": "stdout",
     "output_type": "stream",
     "text": [
      "[[10 20 30 40]\n",
      " [20 40 50 60]]\n"
     ]
    },
    {
     "data": {
      "text/plain": [
       "numpy.ndarray"
      ]
     },
     "execution_count": 3,
     "metadata": {},
     "output_type": "execute_result"
    }
   ],
   "source": [
    "import numpy as np\n",
    "l=[[10,20,30,40],[20,40,50,60]]\n",
    "a=np.array(l)\n",
    "print(a)\n",
    "type(a)\n",
    "\n",
    "\n",
    "\n",
    "\n",
    "\n",
    "\n",
    "\n"
   ]
  },
  {
   "cell_type": "markdown",
   "id": "c2b658e5-e9d6-4359-86a1-119077ffb9ee",
   "metadata": {},
   "source": [
    "# Attributes "
   ]
  },
  {
   "cell_type": "code",
   "execution_count": 16,
   "id": "b012a56d-1e89-4a25-8f08-7ba7c8ddf480",
   "metadata": {},
   "outputs": [
    {
     "name": "stdout",
     "output_type": "stream",
     "text": [
      "ndim:  2\n",
      "shape:  (2, 4)\n",
      "Size:  8\n",
      "dtype:  int64\n",
      "iteamsize:  8\n"
     ]
    }
   ],
   "source": [
    "print(\"ndim: \",a.ndim)\n",
    "print(\"shape: \",a.shape)\n",
    "print(\"Size: \",a.size)\n",
    "print(\"dtype: \",a.dtype)\n",
    "print(\"iteamsize: \",a.itemsize)\n"
   ]
  },
  {
   "cell_type": "markdown",
   "id": "4218046a-ca37-4846-a2ab-d6c59ceb23fb",
   "metadata": {},
   "source": [
    "# indexing"
   ]
  },
  {
   "cell_type": "code",
   "execution_count": 22,
   "id": "e9d21519-010b-429e-85d8-ccadb9aac708",
   "metadata": {},
   "outputs": [
    {
     "name": "stdout",
     "output_type": "stream",
     "text": [
      "10\n"
     ]
    },
    {
     "data": {
      "text/plain": [
       "np.int64(20)"
      ]
     },
     "execution_count": 22,
     "metadata": {},
     "output_type": "execute_result"
    }
   ],
   "source": [
    "print(a[0][0])\n",
    "a[0,1]\n",
    "\n"
   ]
  },
  {
   "cell_type": "markdown",
   "id": "5128e190-02a9-4fab-b933-0b3b35e28baa",
   "metadata": {},
   "source": [
    "# Slicing"
   ]
  },
  {
   "cell_type": "code",
   "execution_count": 26,
   "id": "b23f301b-941d-4602-9c27-c4797f94ea3b",
   "metadata": {},
   "outputs": [
    {
     "name": "stdout",
     "output_type": "stream",
     "text": [
      "[[15 16 17]\n",
      " [25 26 27]\n",
      " [35 36 37]\n",
      " [45 46 47]]\n"
     ]
    }
   ],
   "source": [
    "a1=np.array([[15,16,17],[25,26,27],[35,36,37],[45,46,47]])\n",
    "print(a1)"
   ]
  },
  {
   "cell_type": "code",
   "execution_count": 28,
   "id": "db6d6c18-fbab-41f6-aa57-5d82c79d2211",
   "metadata": {},
   "outputs": [
    {
     "data": {
      "text/plain": [
       "array([25, 26, 27])"
      ]
     },
     "execution_count": 28,
     "metadata": {},
     "output_type": "execute_result"
    }
   ],
   "source": [
    "a1[1,]#fiest index denotes row "
   ]
  },
  {
   "cell_type": "code",
   "execution_count": 30,
   "id": "ef54d73a-fe7d-437e-b60b-9c9eb0100dd4",
   "metadata": {},
   "outputs": [
    {
     "data": {
      "text/plain": [
       "array([16, 26, 36, 46])"
      ]
     },
     "execution_count": 30,
     "metadata": {},
     "output_type": "execute_result"
    }
   ],
   "source": [
    "a1[:,1]"
   ]
  },
  {
   "cell_type": "code",
   "execution_count": 31,
   "id": "c0a26b4d-2a8a-4970-be7f-a2d62b90a19c",
   "metadata": {},
   "outputs": [
    {
     "data": {
      "text/plain": [
       "array([[26, 27],\n",
       "       [36, 37]])"
      ]
     },
     "execution_count": 31,
     "metadata": {},
     "output_type": "execute_result"
    }
   ],
   "source": [
    "a1[1:3,1:3]"
   ]
  },
  {
   "cell_type": "code",
   "execution_count": 32,
   "id": "bba2f255-2927-41c0-b310-ba8c1306c13c",
   "metadata": {},
   "outputs": [
    {
     "data": {
      "text/plain": [
       "array([[25, 26, 27],\n",
       "       [35, 36, 37]])"
      ]
     },
     "execution_count": 32,
     "metadata": {},
     "output_type": "execute_result"
    }
   ],
   "source": [
    "a1[1:3,]"
   ]
  },
  {
   "cell_type": "code",
   "execution_count": 33,
   "id": "4b6b68e0-97f5-4d17-95d3-fa00bf52b02c",
   "metadata": {},
   "outputs": [
    {
     "data": {
      "text/plain": [
       "array([[16, 17],\n",
       "       [26, 27],\n",
       "       [36, 37],\n",
       "       [46, 47]])"
      ]
     },
     "execution_count": 33,
     "metadata": {},
     "output_type": "execute_result"
    }
   ],
   "source": [
    "a1[:,1:3]"
   ]
  },
  {
   "cell_type": "code",
   "execution_count": 34,
   "id": "b28ba18a-d328-4b0c-900f-d6749640f5b6",
   "metadata": {},
   "outputs": [
    {
     "data": {
      "text/plain": [
       "array([26, 36])"
      ]
     },
     "execution_count": 34,
     "metadata": {},
     "output_type": "execute_result"
    }
   ],
   "source": [
    "a1[1:3,1]"
   ]
  },
  {
   "cell_type": "code",
   "execution_count": 35,
   "id": "6c362a96-70ec-4f94-9cdb-ecf0f05ab8b1",
   "metadata": {},
   "outputs": [
    {
     "data": {
      "text/plain": [
       "array([[25],\n",
       "       [35]])"
      ]
     },
     "execution_count": 35,
     "metadata": {},
     "output_type": "execute_result"
    }
   ],
   "source": [
    "a1[1:3,:1]"
   ]
  },
  {
   "cell_type": "code",
   "execution_count": 36,
   "id": "60023b1d-2988-4da4-aef5-477272dbd2c1",
   "metadata": {},
   "outputs": [
    {
     "data": {
      "text/plain": [
       "array([[26, 27],\n",
       "       [36, 37]])"
      ]
     },
     "execution_count": 36,
     "metadata": {},
     "output_type": "execute_result"
    }
   ],
   "source": [
    "a1[1:3,1:]"
   ]
  },
  {
   "cell_type": "markdown",
   "id": "9bd47d28-7914-485f-b4cc-c275b001be6d",
   "metadata": {},
   "source": [
    "# Arithmetic Opr"
   ]
  },
  {
   "cell_type": "code",
   "execution_count": 39,
   "id": "1072d418-ecf9-492c-9e39-1f6cd6432a99",
   "metadata": {},
   "outputs": [
    {
     "data": {
      "text/plain": [
       "(array([1, 2, 3, 4]), array([10, 20, 30, 40]))"
      ]
     },
     "execution_count": 39,
     "metadata": {},
     "output_type": "execute_result"
    }
   ],
   "source": [
    "a1=np.array([1,2,3,4])\n",
    "a2=np.array([10,20,30,40])\n",
    "a1,a2"
   ]
  },
  {
   "cell_type": "code",
   "execution_count": 40,
   "id": "daf3c337-2fe1-4e69-919e-ea2d6b7cf1e9",
   "metadata": {},
   "outputs": [
    {
     "data": {
      "text/plain": [
       "array([11, 22, 33, 44])"
      ]
     },
     "execution_count": 40,
     "metadata": {},
     "output_type": "execute_result"
    }
   ],
   "source": [
    "# +\n",
    "a1+a2"
   ]
  },
  {
   "cell_type": "code",
   "execution_count": 41,
   "id": "e7959ba8-f3db-4ad6-b44e-322601063283",
   "metadata": {},
   "outputs": [
    {
     "data": {
      "text/plain": [
       "array([ -9, -18, -27, -36])"
      ]
     },
     "execution_count": 41,
     "metadata": {},
     "output_type": "execute_result"
    }
   ],
   "source": [
    "a1-a2"
   ]
  },
  {
   "cell_type": "code",
   "execution_count": 42,
   "id": "d2603536-ff29-408c-8a4f-836c0e121be7",
   "metadata": {},
   "outputs": [
    {
     "data": {
      "text/plain": [
       "array([ 10,  40,  90, 160])"
      ]
     },
     "execution_count": 42,
     "metadata": {},
     "output_type": "execute_result"
    }
   ],
   "source": [
    "a1*a2"
   ]
  },
  {
   "cell_type": "code",
   "execution_count": 45,
   "id": "7db4d497-5021-4158-b04d-7a2757085b57",
   "metadata": {},
   "outputs": [
    {
     "data": {
      "text/plain": [
       "array([10., 10., 10., 10.])"
      ]
     },
     "execution_count": 45,
     "metadata": {},
     "output_type": "execute_result"
    }
   ],
   "source": [
    "a2/a1"
   ]
  },
  {
   "cell_type": "code",
   "execution_count": 46,
   "id": "b3c6acf7-cd36-4199-b2eb-a1acea111411",
   "metadata": {},
   "outputs": [
    {
     "data": {
      "text/plain": [
       "array([10, 10, 10, 10])"
      ]
     },
     "execution_count": 46,
     "metadata": {},
     "output_type": "execute_result"
    }
   ],
   "source": [
    "a2//a1"
   ]
  },
  {
   "cell_type": "code",
   "execution_count": 48,
   "id": "b2ec55df-e8a0-4415-ab95-2c914e3c9125",
   "metadata": {},
   "outputs": [
    {
     "data": {
      "text/plain": [
       "array([1, 2, 3, 4])"
      ]
     },
     "execution_count": 48,
     "metadata": {},
     "output_type": "execute_result"
    }
   ],
   "source": [
    "a1%a2"
   ]
  },
  {
   "cell_type": "markdown",
   "id": "6af0059d-2745-4bfc-b600-5d4ecc3c2b8e",
   "metadata": {},
   "source": [
    "## Creating Arrays With a Defined Data Type"
   ]
  },
  {
   "cell_type": "code",
   "execution_count": 26,
   "id": "3e9461be-8f58-4aa7-a16e-75a0afcd3cc3",
   "metadata": {},
   "outputs": [
    {
     "name": "stdout",
     "output_type": "stream",
     "text": [
      "[1. 1. 3.]\n"
     ]
    }
   ],
   "source": [
    "adtype=np.array([1,1,3],dtype='f')\n",
    "#you can define names like (float,int,str) or ('S','f','i','u','b','F'=complexnumber)\n",
    "                \n",
    "print(adtype)# if not able to convert then it will raise an Value error"
   ]
  },
  {
   "cell_type": "code",
   "execution_count": 28,
   "id": "a163bf3f-3a0d-4314-a76a-0d0b0e637295",
   "metadata": {},
   "outputs": [
    {
     "data": {
      "text/plain": [
       "array([ True,  True, False,  True])"
      ]
     },
     "execution_count": 28,
     "metadata": {},
     "output_type": "execute_result"
    }
   ],
   "source": [
    "adtype=np.array([1,1,0,3],dtype=bool)\n",
    "adtype"
   ]
  },
  {
   "cell_type": "markdown",
   "id": "ac88c749-5c81-497a-a9f5-2099414e9dc9",
   "metadata": {},
   "source": [
    "# astype :\n",
    "## The astype() function creates a copy of the array, and allows you to specify the data type as a parameter."
   ]
  },
  {
   "cell_type": "code",
   "execution_count": 29,
   "id": "11eb1f58-461e-492b-8ff6-78e8052ef9eb",
   "metadata": {},
   "outputs": [
    {
     "data": {
      "text/plain": [
       "array([1, 1, 0, 1])"
      ]
     },
     "execution_count": 29,
     "metadata": {},
     "output_type": "execute_result"
    }
   ],
   "source": [
    "ast=adtype.astype(int)\n",
    "ast"
   ]
  },
  {
   "cell_type": "markdown",
   "id": "15ce2919-4e2c-488c-8493-f3218451585c",
   "metadata": {},
   "source": [
    "# Reshape()\n",
    "### By reshaping we can add or remove dimensions or change number of elements in each dimension.\n",
    "### is doesn,t changes original shape \n",
    "### must give M X N pattern \n",
    "### you can give any one dimention if you don't know the dimentions then it will calculate automaticly \n"
   ]
  },
  {
   "cell_type": "code",
   "execution_count": 31,
   "id": "da4afa24-41f2-4b9a-9d0b-ee244d3ad7e3",
   "metadata": {},
   "outputs": [],
   "source": [
    "arr1=np.array([1,2,3,4,5,6,7,8,9,10,11,12])"
   ]
  },
  {
   "cell_type": "code",
   "execution_count": 37,
   "id": "d85ce603-9c9d-4098-be93-c63816db7548",
   "metadata": {},
   "outputs": [
    {
     "name": "stdout",
     "output_type": "stream",
     "text": [
      "[ 1  2  3  4  5  6  7  8  9 10 11 12]\n"
     ]
    },
    {
     "data": {
      "text/plain": [
       "array([[ 1,  2,  3],\n",
       "       [ 4,  5,  6],\n",
       "       [ 7,  8,  9],\n",
       "       [10, 11, 12]])"
      ]
     },
     "execution_count": 37,
     "metadata": {},
     "output_type": "execute_result"
    }
   ],
   "source": [
    "arr1.reshape(4,3)\n",
    "print(arr1)\n",
    "arr1.reshape(4,3)"
   ]
  },
  {
   "cell_type": "code",
   "execution_count": 38,
   "id": "19169dbb-2498-425d-a4c6-31a3f34da97f",
   "metadata": {},
   "outputs": [
    {
     "data": {
      "text/plain": [
       "array([[[ 1,  2],\n",
       "        [ 3,  4],\n",
       "        [ 5,  6]],\n",
       "\n",
       "       [[ 7,  8],\n",
       "        [ 9, 10],\n",
       "        [11, 12]]])"
      ]
     },
     "execution_count": 38,
     "metadata": {},
     "output_type": "execute_result"
    }
   ],
   "source": [
    "arr1.reshape(2,3,2)"
   ]
  },
  {
   "cell_type": "code",
   "execution_count": 39,
   "id": "2dc0fe75-9879-45e1-b99e-13f5174421cc",
   "metadata": {},
   "outputs": [
    {
     "data": {
      "text/plain": [
       "array([[ 1,  2,  3,  4,  5,  6],\n",
       "       [ 7,  8,  9, 10, 11, 12]])"
      ]
     },
     "execution_count": 39,
     "metadata": {},
     "output_type": "execute_result"
    }
   ],
   "source": [
    "arr1.reshape([2,-1])"
   ]
  },
  {
   "cell_type": "markdown",
   "id": "8ec4fc7a-5ae5-404c-b10b-f597e7459b79",
   "metadata": {},
   "source": [
    "# Flattening the arrays\n",
    "### Flattening array means converting a multidimensional array into a 1D array."
   ]
  },
  {
   "cell_type": "code",
   "execution_count": 40,
   "id": "56fc3dfb-d3b8-427e-af0c-b2a58a11c42b",
   "metadata": {},
   "outputs": [
    {
     "data": {
      "text/plain": [
       "array([1, 2, 3, 4, 5, 6])"
      ]
     },
     "execution_count": 40,
     "metadata": {},
     "output_type": "execute_result"
    }
   ],
   "source": [
    "arr2=np.array([[1,2,3],[4,5,6]])\n",
    "arr2.flatten()"
   ]
  },
  {
   "cell_type": "markdown",
   "id": "88c27a11-16cb-4c90-a151-cf2d101104ba",
   "metadata": {},
   "source": [
    "# np.Sort() \n",
    "## it sort array but never change original array\n",
    "\n",
    "# argsort()- \n",
    "## it gives the index of shifted elements after sorting"
   ]
  },
  {
   "cell_type": "code",
   "execution_count": 41,
   "id": "0a4e06c5-e331-4b07-bf71-c725e0246ea5",
   "metadata": {},
   "outputs": [
    {
     "data": {
      "text/plain": [
       "array([ 10,  20,  30,  40,  90,   3,   2, 100,   6])"
      ]
     },
     "execution_count": 41,
     "metadata": {},
     "output_type": "execute_result"
    }
   ],
   "source": [
    "arr3=np.array([10,20,30,40,90,3,2,100,6])\n",
    "arr3"
   ]
  },
  {
   "cell_type": "code",
   "execution_count": 68,
   "id": "774ff3d5-d099-4983-bdac-1f5e3f9b812b",
   "metadata": {},
   "outputs": [
    {
     "name": "stdout",
     "output_type": "stream",
     "text": [
      "[100  90  40  30  20  10   6   3   2]\n",
      "[  2   3   6  10  20  30  40  90 100]\n"
     ]
    }
   ],
   "source": [
    "print(np.sort(arr3)[::-1])\n",
    "print(arr3)\n"
   ]
  },
  {
   "cell_type": "code",
   "execution_count": 65,
   "id": "c7de416d-6626-44a9-9a9b-fb18b5673f31",
   "metadata": {},
   "outputs": [
    {
     "name": "stdout",
     "output_type": "stream",
     "text": [
      "None\n",
      "[  2   3   6  10  20  30  40  90 100]\n"
     ]
    }
   ],
   "source": [
    "arr4=np.array([1,2,6,4,5,8,1])\n",
    "print(arr3.sort())\n",
    "print(arr3)"
   ]
  },
  {
   "cell_type": "code",
   "execution_count": 69,
   "id": "44b6c5bf-a2a9-49c9-9cc1-6d76ddba089f",
   "metadata": {},
   "outputs": [
    {
     "name": "stdout",
     "output_type": "stream",
     "text": [
      "[0 6 1 3 4 2 5]\n"
     ]
    }
   ],
   "source": [
    "print(np.argsort(arr4))"
   ]
  },
  {
   "cell_type": "code",
   "execution_count": 78,
   "id": "7b1a4d8a-0100-4af1-a70f-bebb5309b143",
   "metadata": {},
   "outputs": [
    {
     "data": {
      "text/plain": [
       "[[10, 30, 20], [40, 5, 60]]"
      ]
     },
     "execution_count": 78,
     "metadata": {},
     "output_type": "execute_result"
    }
   ],
   "source": [
    "arr2d=[[10,30,20],[40,5,60]]\n",
    "arr2d"
   ]
  },
  {
   "cell_type": "code",
   "execution_count": 79,
   "id": "f415c265-e150-4a70-94af-a7108111eead",
   "metadata": {},
   "outputs": [
    {
     "data": {
      "text/plain": [
       "array([[10, 20, 30],\n",
       "       [ 5, 40, 60]])"
      ]
     },
     "execution_count": 79,
     "metadata": {},
     "output_type": "execute_result"
    }
   ],
   "source": [
    "np.sort(arr2d)"
   ]
  },
  {
   "cell_type": "code",
   "execution_count": 81,
   "id": "de71b504-6ecd-41d4-9e47-fa1bbaa6707b",
   "metadata": {},
   "outputs": [
    {
     "data": {
      "text/plain": [
       "array([[10,  5, 20],\n",
       "       [40, 30, 60]])"
      ]
     },
     "execution_count": 81,
     "metadata": {},
     "output_type": "execute_result"
    }
   ],
   "source": [
    "np.sort(arr2d,axis=0)#0 for colum sort #1 for row sort default is row"
   ]
  },
  {
   "cell_type": "code",
   "execution_count": 84,
   "id": "52da231c-29ca-49ef-88e8-b7c984ee212f",
   "metadata": {},
   "outputs": [
    {
     "data": {
      "text/plain": [
       "array([[0, 2, 1],\n",
       "       [1, 0, 2]])"
      ]
     },
     "execution_count": 84,
     "metadata": {},
     "output_type": "execute_result"
    }
   ],
   "source": [
    "np.argsort(arr2d)"
   ]
  },
  {
   "cell_type": "markdown",
   "id": "d1b0366f-c24f-429b-9fda-1fc0af91bf93",
   "metadata": {},
   "source": [
    "# Statics Functions"
   ]
  },
  {
   "cell_type": "code",
   "execution_count": 85,
   "id": "d58e25fd-8e77-4356-afa8-99926a4e7c67",
   "metadata": {},
   "outputs": [],
   "source": [
    "arr5=np.array([10,20,30,40,50,60,70,80,100])"
   ]
  },
  {
   "cell_type": "code",
   "execution_count": 89,
   "id": "1031a8dd-f793-42fb-a018-e45bc54636b7",
   "metadata": {},
   "outputs": [
    {
     "name": "stdout",
     "output_type": "stream",
     "text": [
      "10 100 460 403200000000000\n"
     ]
    }
   ],
   "source": [
    "print(np.min(arr5),np.max(arr5),np.sum(arr5),np.prod(arr5))"
   ]
  },
  {
   "cell_type": "code",
   "execution_count": 93,
   "id": "99ca55ca-0bc2-4c4a-9bf5-fceb03df3235",
   "metadata": {},
   "outputs": [
    {
     "name": "stdout",
     "output_type": "stream",
     "text": [
      "51.111111111111114 50.0 765.4320987654321 27.666443551086072\n"
     ]
    }
   ],
   "source": [
    "print(np.mean(arr5), np.median(arr5),np.var(arr5),np.std(arr5))"
   ]
  },
  {
   "cell_type": "code",
   "execution_count": null,
   "id": "125cb035-89e6-4f53-924f-14d058ebdbe8",
   "metadata": {},
   "outputs": [],
   "source": []
  }
 ],
 "metadata": {
  "kernelspec": {
   "display_name": "Python 3 (ipykernel)",
   "language": "python",
   "name": "python3"
  },
  "language_info": {
   "codemirror_mode": {
    "name": "ipython",
    "version": 3
   },
   "file_extension": ".py",
   "mimetype": "text/x-python",
   "name": "python",
   "nbconvert_exporter": "python",
   "pygments_lexer": "ipython3",
   "version": "3.13.0"
  }
 },
 "nbformat": 4,
 "nbformat_minor": 5
}
